{
 "cells": [
  {
   "cell_type": "code",
   "execution_count": 2,
   "metadata": {},
   "outputs": [],
   "source": [
    "import pandas as pd"
   ]
  },
  {
   "cell_type": "markdown",
   "metadata": {},
   "source": [
    "# Preparação dos dados de Unidades de Saúde do Datasus"
   ]
  },
  {
   "cell_type": "code",
   "execution_count": 32,
   "metadata": {},
   "outputs": [],
   "source": [
    "# Carregando tabela do datasus\n",
    "df = pd.read_csv('tbEstabelecimento202106.csv', sep=';', low_memory=False)\n",
    "\n",
    "\n",
    "# Filtrando seguintes estabelecimentos:\n",
    "# 1: Unidade Básica de Saúde; \n",
    "# 25: Centro de Imunização\n",
    "df = df[df['CO_TIPO_ESTABELECIMENTO'].isin([1, 25])]\n",
    "\n",
    "\n",
    "# Filtrando e renomeando seguintes colunas:\n",
    "columns = [\n",
    "  'NO_FANTASIA', \n",
    "  'CO_MUNICIPIO_GESTOR',\n",
    "  'NO_LOGRADOURO', \n",
    "  'NU_ENDERECO',\n",
    "  'NO_COMPLEMENTO',\n",
    "  'NO_BAIRRO',\n",
    "  'CO_CEP',\n",
    "  'NU_TELEFONE',\n",
    "  'NU_LATITUDE',\n",
    "  'NU_LONGITUDE'\n",
    "]\n",
    "\n",
    "alias = [\n",
    "  'nome',\n",
    "  'cidade',\n",
    "  'logradouro',\n",
    "  'numero',\n",
    "  'complemento',\n",
    "  'bairro',\n",
    "  'cep',\n",
    "  'telefone',\n",
    "  'latitude',\n",
    "  'longitude'\n",
    "]\n",
    "\n",
    "df = df[columns]\n",
    "mapper = {c: a for c, a in zip(columns, alias)}\n",
    "df = df.rename(columns=mapper)\n",
    "\n",
    "\n",
    "# Sanitização de dados: removendo registros com \n",
    "# valores inválidos de latitude ou longitude\n",
    "df = df[~(df.latitude.isna() | df.longitude.isna())]\n"
   ]
  },
  {
   "cell_type": "code",
   "execution_count": 38,
   "metadata": {},
   "outputs": [],
   "source": [
    "# Adição do nome da cidade e unidade federativa\n",
    "df_cidade = pd.read_csv('tbMunicipio202106.csv', sep=';')\n",
    "\n",
    "get_nome_cidade = lambda x: df_cidade.loc[df_cidade.CO_MUNICIPIO == x, 'NO_MUNICIPIO'].item()\n",
    "get_uf = lambda x: df_cidade.loc[df_cidade.CO_MUNICIPIO == x, 'CO_SIGLA_ESTADO'].item()\n",
    "\n",
    "df['uf'] = [get_uf(cod_cidade) for cod_cidade in df['cidade']]\n",
    "df['cidade'] = [get_nome_cidade(cod_cidade) for cod_cidade in df['cidade']]"
   ]
  },
  {
   "cell_type": "code",
   "execution_count": 44,
   "metadata": {},
   "outputs": [],
   "source": [
    "# Salvando dados em um novo arquivo .csv\n",
    "df.to_csv('datasus_unidades.csv', index=False)"
   ]
  }
 ],
 "metadata": {
  "interpreter": {
   "hash": "31f2aee4e71d21fbe5cf8b01ff0e069b9275f58929596ceb00d14d90e3e16cd6"
  },
  "kernelspec": {
   "display_name": "Python 3.8.10 64-bit",
   "name": "python3"
  },
  "language_info": {
   "codemirror_mode": {
    "name": "ipython",
    "version": 3
   },
   "file_extension": ".py",
   "mimetype": "text/x-python",
   "name": "python",
   "nbconvert_exporter": "python",
   "pygments_lexer": "ipython3",
   "version": "3.8.10"
  },
  "orig_nbformat": 4
 },
 "nbformat": 4,
 "nbformat_minor": 2
}